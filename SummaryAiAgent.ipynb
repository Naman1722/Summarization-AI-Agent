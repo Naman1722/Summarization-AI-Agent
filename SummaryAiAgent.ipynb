{
  "nbformat": 4,
  "nbformat_minor": 0,
  "metadata": {
    "colab": {
      "provenance": [],
      "toc_visible": true,
      "authorship_tag": "ABX9TyMicfolQIGJoSr9ibMFeQai",
      "include_colab_link": true
    },
    "kernelspec": {
      "name": "python3",
      "display_name": "Python 3"
    },
    "language_info": {
      "name": "python"
    }
  },
  "cells": [
    {
      "cell_type": "markdown",
      "metadata": {
        "id": "view-in-github",
        "colab_type": "text"
      },
      "source": [
        "<a href=\"https://colab.research.google.com/github/Naman1722/Summarization-AI-Agent/blob/main/SummaryAiAgent.ipynb\" target=\"_parent\"><img src=\"https://colab.research.google.com/assets/colab-badge.svg\" alt=\"Open In Colab\"/></a>"
      ]
    },
    {
      "cell_type": "code",
      "execution_count": null,
      "metadata": {
        "id": "821NFOqN8AAt"
      },
      "outputs": [],
      "source": [
        "!pip install -qU \"langchain[mistralai]\""
      ]
    },
    {
      "cell_type": "code",
      "source": [
        "import os, getpass\n",
        "from langchain.chat_models import init_chat_model\n",
        "\n",
        "if not os.environ.get(\"MISTRAL_API_KEY\"):\n",
        "    os.environ[\"MISTRAL_API_KEY\"] = getpass.getpass(\"Enter the API: \")\n",
        "\n",
        "# This needs to be here — outside the if-block\n",
        "model = init_chat_model(\"mistral-large-latest\", model_provider=\"mistralai\")\n",
        "\n",
        "from langchain.prompts import ChatPromptTemplate\n",
        "\n",
        "system_message = \"You're a helpful assistant that summarizes customer support tickets in 1-2 lines.\"\n",
        "\n",
        "prompt = ChatPromptTemplate.from_messages([\n",
        "    (\"system\", system_message),\n",
        "    (\"human\", \"Subject: {subject}\\nDescription: {description}\\n\")\n",
        "])\n",
        "\n",
        "summarizer_chain = prompt | model\n",
        "\n",
        "def summarize_ticket(subject, description):\n",
        "    return summarizer_chain.invoke({\"subject\": subject, \"description\": description}).content\n",
        "\n",
        "subject = input(\"subject: \")\n",
        "description = input(\"description: \")\n",
        "\n",
        "summary = summarize_ticket(subject, description)\n",
        "\n",
        "print(\"Summary of ticket: \",summary)\n"
      ],
      "metadata": {
        "colab": {
          "base_uri": "https://localhost:8080/"
        },
        "id": "RULgnGe99AEb",
        "outputId": "e18979c3-c11c-4fb0-ce4a-0949911f2b6c",
        "collapsed": true
      },
      "execution_count": 7,
      "outputs": [
        {
          "output_type": "stream",
          "name": "stdout",
          "text": [
            "subject: Unable to access premium features after payment\n",
            "description: Hi team, I subscribed to the premium plan yesterday and the payment was successfully deducted from my account. However, when I log into the app, it still shows me as a free user and none of the premium features are accessible. I've tried logging out and back in, and even reinstalled the app, but no luck. Please look into this ASAP.\n",
            "Summary of ticket:  Customer cannot access premium features despite successful payment and attempts to troubleshoot.\n"
          ]
        }
      ]
    },
    {
      "cell_type": "code",
      "source": [],
      "metadata": {
        "id": "OlgmfaHL_p_d"
      },
      "execution_count": null,
      "outputs": []
    }
  ]
}